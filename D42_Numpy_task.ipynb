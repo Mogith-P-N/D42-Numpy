{
  "nbformat": 4,
  "nbformat_minor": 0,
  "metadata": {
    "colab": {
      "provenance": []
    },
    "kernelspec": {
      "name": "python3",
      "display_name": "Python 3"
    },
    "language_info": {
      "name": "python"
    }
  },
  "cells": [
    {
      "cell_type": "markdown",
      "source": [
        "**1. The most basic kind of broadcast is with a scalar, in which you can perform a binary\n",
        "operation (e.g., add, multiply, ...) on an array and a scalar, the effect is to perform that\n",
        "operation with the scalar for every element of the array. To try this out, create a vector\n",
        "1, 2, . . . , 10 by adding 1 to the result of the arange function.**"
      ],
      "metadata": {
        "id": "WYNguOVIRchx"
      }
    },
    {
      "cell_type": "code",
      "execution_count": 17,
      "metadata": {
        "colab": {
          "base_uri": "https://localhost:8080/"
        },
        "id": "0htVmlPW3RoD",
        "outputId": "17fa8457-401a-49ed-88d3-c8897cbbd26d"
      },
      "outputs": [
        {
          "output_type": "stream",
          "name": "stdout",
          "text": [
            "[ 2  3  4  5  6  7  8  9 10 11]\n"
          ]
        }
      ],
      "source": [
        "import numpy as np      \n",
        "vector= np.arange(1,11)         #using arange function to generate vector with 1 X 10\n",
        "result_vector=vector+1\n",
        "print(result_vector)\n"
      ]
    },
    {
      "cell_type": "markdown",
      "source": [
        "**2. Now, create a 10 × 10 matrix A in which A[i][j] = i + j. You’ll be able to do this using\n",
        "the vector you just created, and adding it to a reshaped version of itself**"
      ],
      "metadata": {
        "id": "Yp-uUNEmSx78"
      }
    },
    {
      "cell_type": "code",
      "source": [
        "import numpy as np\n",
        "B=np.reshape((np.arange(1,101)),(-1,10))  # creating a 10 X 10 matrix with random values \n",
        "A=B+B                                     # a[i][j]=i+j which is adding the matrix to itself\n",
        "\n"
      ],
      "metadata": {
        "id": "hQ6dVUj8S-t5"
      },
      "execution_count": null,
      "outputs": []
    },
    {
      "cell_type": "markdown",
      "source": [
        "**3. Now, compute the mean and standard deviation of each column. This should result in\n",
        "two vectors of length 5. You’ll need to think a little bit about how to use the axis\n",
        "argument to mean and std. Store these vectors into variables and print both of them.**"
      ],
      "metadata": {
        "id": "TZud2gcIlxhO"
      }
    },
    {
      "cell_type": "code",
      "source": [
        "import numpy as np\n",
        "import numpy.random as npr   #using random module to generate random values\n",
        "data = ( npr.randn(50, 5) )  #creating a matrix of 50 X 5\n",
        "Mean_data=np.mean(data,axis=0)  #finding the mean of given value in terms of column wise\n",
        "Std_data=np.std(data,axis=0)    # standard deviation of the data in terms of column wise\n",
        "print(Mean_data)\n",
        "print(Std_data)"
      ],
      "metadata": {
        "colab": {
          "base_uri": "https://localhost:8080/"
        },
        "id": "igLz2PLYmCyL",
        "outputId": "33b0ab6e-5dfd-45d8-9ed6-9e099c83d44c"
      },
      "execution_count": 8,
      "outputs": [
        {
          "output_type": "stream",
          "name": "stdout",
          "text": [
            "[ 0.29124367 -0.09557695 -0.16104869  0.08112663  0.10071195]\n",
            "[0.8833859  0.86047177 0.97475709 0.93961521 1.03315048]\n"
          ]
        }
      ]
    },
    {
      "cell_type": "markdown",
      "source": [
        "**5. Now standardize the data matrix by**\n",
        "**1.  subtracting the mean off of each column, and**\n",
        "**2.  dividing each column by its standard deviation. Do this via broadcasting, and store the result in a matrix called normalized. \n",
        "To verify that you successfully did it, compute\n",
        "the mean and standard deviation of the columns of normalized and print them out.**"
      ],
      "metadata": {
        "id": "q-J-uCswL74O"
      }
    },
    {
      "cell_type": "code",
      "source": [
        "\n",
        "import numpy as np\n",
        "import numpy.random as npr              #using random module to generate random values\n",
        "data = np.exp (npr.randn(50, 5))        #creating a matrix of 50 X 5\n",
        "Mean_of_data=np.mean(data,axis=0)       #finding the mean of given value in terms of column wise\n",
        "Std_data=np.std(data,axis=0)            # standard deviation of the data in terms of column wise                    \n",
        "normalized=np.divide((np.subtract(data,Mean_of_data)),Std_data)  #creating new matrix with given condition in the question by first subtracting  mean value for each column and dividing with standard deviation\n",
        "normalized_mean=np.mean(normalize,axis=0)   #computing new mean for the normalized data\n",
        "normalized_std=np.std(normalize,axis=0)     #computing new standard deviation for the normalized data\n",
        "print(\"data= \",data)\n",
        "print(\"Mean of data =\" ,Mean_of_data)\n",
        "print(\"std deviation of data =\" ,Std_data)\n",
        "print(\"normalized data =\",normalized)\n",
        "print(\"nm\",normalized_mean)\n",
        "print(\"n std =\", normalized_std)\n",
        "\"The normalized mean will be equivalent to zero and std deviation will be 1\"\n"
      ],
      "metadata": {
        "id": "_KOozJH2L8dI",
        "colab": {
          "base_uri": "https://localhost:8080/",
          "height": 1000
        },
        "outputId": "49492ca6-74b1-4d71-b829-81a5bbce3696"
      },
      "execution_count": 11,
      "outputs": [
        {
          "output_type": "stream",
          "name": "stdout",
          "text": [
            "data=  [[ 2.30172172  1.18959139  1.56880383  7.95868637  3.30404414]\n",
            " [ 4.76316462  2.88124537  2.87769433  1.6631079   0.50462187]\n",
            " [ 1.84788213  1.90280617  1.23413312  0.56440276  0.37149967]\n",
            " [ 1.73658616  2.15800666  0.25887321  3.17559699  0.39421746]\n",
            " [ 0.515634    0.56971069  0.75831613 18.73702808  1.91163967]\n",
            " [ 1.9969574   4.24046655  2.68245565  2.69889444 12.13187974]\n",
            " [ 1.48808763  4.3194257   1.95171064  0.38165482  1.78281209]\n",
            " [ 4.72349818  0.66718529  0.66827808  2.70378607  0.27260844]\n",
            " [ 0.35584402  5.86580933  0.15869647  0.78789804  0.75766062]\n",
            " [ 2.80696676  6.34626534  1.03083993  1.10573073  2.62126438]\n",
            " [13.21974858  3.55987032  0.32970489  1.42429723  1.03379549]\n",
            " [ 0.32537209  2.53070432  1.04306731  0.55599912  0.86276427]\n",
            " [ 1.37871055  0.17419941  1.74178303  0.87435451  2.21272068]\n",
            " [ 0.3808129   0.47465302  1.52002282  4.46075498  0.36727304]\n",
            " [ 0.27538455  5.20538918  0.19606324  2.52763428  4.27720612]\n",
            " [ 0.39766911  0.58155352  0.4869876   0.69143213  1.15095373]\n",
            " [ 1.94021916  0.90710299  0.68986001  1.20397915  1.25124456]\n",
            " [ 0.47020431  2.06342006  3.87440304  0.39542249  0.61032773]\n",
            " [ 1.71362158  1.18991542  0.2495785   0.34154937 32.62426226]\n",
            " [ 2.00823538  0.33421398  0.9279156   0.39831608  0.86207258]\n",
            " [ 0.09046125  1.77034991  0.68680391  0.34459088  1.29227795]\n",
            " [ 0.25843448  2.59343998  4.76795599  1.80052716  3.74937962]\n",
            " [ 1.18653987  2.44009996  0.628495    1.68472124  0.25653037]\n",
            " [ 0.50001358  4.39381718  2.33408821  6.13383143  8.04608091]\n",
            " [ 3.20745901  1.13163383  0.46893465  0.70602766  1.51316338]\n",
            " [ 0.52168319  0.28024826  4.01337724  1.81042266  1.94752831]\n",
            " [ 3.70238152 10.91091566  2.4534348   2.95757699  1.31546353]\n",
            " [ 2.08679288  1.11528903  2.61416455  1.55581048  0.45285309]\n",
            " [ 0.60467958  5.78972735  3.19301295  4.12654443  1.48100286]\n",
            " [ 1.59686784  3.54093906  3.48984391  0.78994731  0.37505407]\n",
            " [ 2.95470362  0.30541304  0.63376941  5.35071486  0.69460918]\n",
            " [ 0.95330695  0.64421195  0.12944225  0.49007139  2.7291986 ]\n",
            " [ 1.8654248   0.50166021  0.08889934  0.2807058   0.54804975]\n",
            " [ 2.59951557  0.54514092  0.84595179  1.61869697  1.75521703]\n",
            " [ 1.18402757  2.24739606  2.26117884  0.11896635  0.98503264]\n",
            " [ 1.26009872  0.746778    0.25224941  0.6791199   1.86115015]\n",
            " [ 0.22015977  9.77541897  0.84272628  0.77120435  0.3160539 ]\n",
            " [ 0.88781097  0.59035045  0.49927875  1.68152866  0.19696261]\n",
            " [ 0.95030139  1.17297516  0.92003038  4.13648133  0.77801959]\n",
            " [ 1.24419367  0.45315353  0.45178546  5.80749192 12.01358071]\n",
            " [ 2.36360032  0.81626879  1.24364324  2.92830737  2.55866559]\n",
            " [ 1.39870242  5.61511354  2.01431519  0.53469238  1.1091108 ]\n",
            " [ 0.74061422  0.51871472  0.26142563  0.69718413  3.17807147]\n",
            " [ 0.56753932  0.13809048  0.85557014  0.85109632  0.41960721]\n",
            " [ 1.17669082  0.32122042  1.00980374  0.38193483  0.56783897]\n",
            " [ 0.50759756  0.19122751  0.7743063   1.13636195  0.5534586 ]\n",
            " [ 6.27504056  0.60292196  1.65642115  0.95956658  6.54964274]\n",
            " [ 1.03723731  0.90329606  3.49867671  0.11294129  0.34978866]\n",
            " [ 1.58095976  2.17868488  2.05514248  7.34035247  0.51240699]\n",
            " [ 0.99213931  1.10172414  0.49640677  3.48137798  0.22116376]]\n",
            "Mean of data = [1.78322597 2.20995511 1.39380644 2.27838645 2.55263663]\n",
            "std deviation of data = [2.06748807 2.39170984 1.16574453 3.02500337 5.00880012]\n",
            "normalized data = [[ 2.50785363e-01 -4.26625215e-01  1.50116415e-01  1.87778300e+00\n",
            "   1.50017468e-01]\n",
            " [ 1.44133294e+00  2.80673785e-01  1.27291002e+00 -2.03397641e-01\n",
            "  -4.08883308e-01]\n",
            " [ 3.12728091e-02 -1.28422329e-01 -1.36971108e-01 -5.66605546e-01\n",
            "  -4.35460970e-01]\n",
            " [-2.25586866e-02 -2.17202163e-02 -9.73569419e-01  2.96598193e-01\n",
            "  -4.30925396e-01]\n",
            " [-6.13107275e-01 -6.85804106e-01 -5.45136858e-01  5.44086720e+00\n",
            "  -1.27974155e-01]\n",
            " [ 1.03377343e-01  8.48979006e-01  1.10543020e+00  1.39010751e-01\n",
            "   1.91248261e+00]\n",
            " [-1.42752140e-01  8.81992687e-01  4.78581870e-01 -6.27018024e-01\n",
            "  -1.53694402e-01]\n",
            " [ 1.42214713e+00 -6.45048911e-01 -6.22373371e-01  1.40627815e-01\n",
            "  -4.55204467e-01]\n",
            " [-6.90394287e-01  1.52855257e+00 -1.05950311e+00 -4.92722893e-01\n",
            "  -3.58364473e-01]\n",
            " [ 4.95161641e-01  1.72943647e+00 -3.11360249e-01 -3.87654351e-01\n",
            "   1.37014355e-02]\n",
            " [ 5.53160272e+00  5.64414289e-01 -9.12808527e-01 -2.82343228e-01\n",
            "  -3.03234528e-01]\n",
            " [-7.05132912e-01  1.34108747e-01 -3.00871351e-01 -5.69383606e-01\n",
            "  -3.37380674e-01]\n",
            " [-1.95655506e-01 -8.51171688e-01  2.98501586e-01 -4.64142274e-01\n",
            "  -6.78637495e-02]\n",
            " [-6.78317372e-01 -7.25548756e-01  1.08271051e-01  7.21443336e-01\n",
            "  -4.36304812e-01]\n",
            " [-7.29310822e-01  1.25242369e+00 -1.02744912e+00  8.23958828e-02\n",
            "   3.44307908e-01]\n",
            " [-6.70164382e-01 -6.80852487e-01 -7.77888128e-01 -5.24612415e-01\n",
            "  -2.79844049e-01]\n",
            " [ 7.59342643e-02 -5.44736698e-01 -6.03859948e-01 -3.55175571e-01\n",
            "  -2.59821122e-01]\n",
            " [-6.35080648e-01 -6.12679078e-02  2.12790756e+00 -6.22466733e-01\n",
            "  -3.87779279e-01]\n",
            " [-3.36661652e-02 -4.26489733e-01 -9.81542613e-01 -6.40276007e-01\n",
            "   6.00375837e+00]\n",
            " [ 1.08832262e-01 -7.84267850e-01 -3.99650889e-01 -6.21510173e-01\n",
            "  -3.37518770e-01]\n",
            " [-8.18754288e-01 -1.83803737e-01 -6.06481527e-01 -6.39270549e-01\n",
            "  -2.51628864e-01]\n",
            " [-7.37509209e-01  1.60339208e-01  2.89441593e+00 -1.57969838e-01\n",
            "   2.38928078e-01]\n",
            " [-2.88604376e-01  9.62260715e-02 -6.56500130e-01 -1.96252745e-01\n",
            "  -4.58414432e-01]\n",
            " [-6.20662538e-01  9.13096577e-01  8.06593335e-01  1.27452584e+00\n",
            "   1.09675853e+00]\n",
            " [ 6.88871224e-01 -4.50857902e-01 -7.93374330e-01 -5.19787452e-01\n",
            "  -2.07529393e-01]\n",
            " [-6.10181410e-01 -8.06831506e-01  2.24712252e+00 -1.54698601e-01\n",
            "  -1.20809037e-01]\n",
            " [ 9.28254716e-01  3.63796662e+00  9.08971332e-01  2.24525548e-01\n",
            "  -2.46999895e-01]\n",
            " [ 1.46828857e-01 -4.57691842e-01  1.04684867e+00 -2.38867823e-01\n",
            "  -4.19218873e-01]\n",
            " [-5.70037820e-01  1.49674186e+00  1.54339691e+00  6.10960633e-01\n",
            "  -2.13950197e-01]\n",
            " [-9.01374631e-02  5.56498920e-01  1.79802470e+00 -4.92045447e-01\n",
            "  -4.34751340e-01]\n",
            " [ 5.66618817e-01 -7.96309838e-01 -6.51975631e-01  1.01564462e+00\n",
            "  -3.70952606e-01]\n",
            " [-4.01414178e-01 -6.54654315e-01 -1.08459800e+00 -5.91177872e-01\n",
            "   3.52503515e-02]\n",
            " [ 3.97578225e-02 -7.14256755e-01 -1.11937655e+00 -6.60389562e-01\n",
            "  -4.00212992e-01]\n",
            " [ 3.94821916e-01 -6.96076994e-01 -4.69961159e-01 -2.18078925e-01\n",
            "  -1.59203717e-01]\n",
            " [-2.89819522e-01  1.56544663e-02  7.44050151e-01 -7.13857088e-01\n",
            "  -3.12969964e-01]\n",
            " [-2.53025527e-01 -6.11770330e-01 -9.79251449e-01 -5.28682568e-01\n",
            "  -1.38054318e-01]\n",
            " [-7.56021874e-01  3.16320305e+00 -4.72728064e-01 -4.98241462e-01\n",
            "  -4.46530642e-01]\n",
            " [-4.33093193e-01 -6.77174395e-01 -7.67344531e-01 -1.97308142e-01\n",
            "  -4.70307052e-01]\n",
            " [-4.02867906e-01 -4.33572641e-01 -4.06414992e-01  6.14245556e-01\n",
            "  -3.54299833e-01]\n",
            " [-2.60718460e-01 -7.34537927e-01 -8.08085267e-01  1.16664513e+00\n",
            "   1.88886437e+00]\n",
            " [ 2.80714726e-01 -5.82715470e-01 -1.28813130e-01  2.14849652e-01\n",
            "   1.20367229e-03]\n",
            " [-1.85985865e-01  1.42373392e+00  5.32285362e-01 -5.76427150e-01\n",
            "  -2.88197931e-01]\n",
            " [-5.04289127e-01 -7.07126076e-01 -9.71379896e-01 -5.22710929e-01\n",
            "   1.24867199e-01]\n",
            " [-5.88001775e-01 -8.66269227e-01 -4.61710330e-01 -4.71830921e-01\n",
            "  -4.25856368e-01]\n",
            " [-2.93368154e-01 -7.89700599e-01 -3.29405529e-01 -6.26925458e-01\n",
            "  -3.96262102e-01]\n",
            " [-6.16994328e-01 -8.44052055e-01 -5.31420151e-01 -3.77528340e-01\n",
            "  -3.99133123e-01]\n",
            " [ 2.17259517e+00 -6.71918112e-01  2.25276385e-01 -4.35973025e-01\n",
            "   7.97996728e-01]\n",
            " [-3.60818848e-01 -5.46328421e-01  1.80560167e+00 -7.15848841e-01\n",
            "  -4.39795543e-01]\n",
            " [-9.78318636e-02 -1.30744259e-02  5.67307866e-01  1.67337533e+00\n",
            "  -4.07329020e-01]\n",
            " [-3.82631790e-01 -4.63363473e-01 -7.69808169e-01  3.97682706e-01\n",
            "  -4.65475326e-01]]\n",
            "nm [ 9.29811783e-17 -3.68594044e-16  1.78745907e-16 -7.99360578e-17\n",
            " -1.24344979e-16]\n",
            "n std = [1. 1. 1. 1. 1.]\n"
          ]
        },
        {
          "output_type": "execute_result",
          "data": {
            "text/plain": [
              "'The normalized mean will be equivalent to zero and std deviation will be 1'"
            ],
            "application/vnd.google.colaboratory.intrinsic+json": {
              "type": "string"
            }
          },
          "metadata": {},
          "execution_count": 11
        }
      ]
    },
    {
      "cell_type": "markdown",
      "source": [
        "**Part-2**\n",
        "\n",
        "**Aim: Performing the Hypothesis testing using the Chi-squared test\n",
        "The table below is a survey response to 4 categorical variables: people in categories from\n",
        "18–29, 30–44, 45–64 and >65 years, and their movie genre inclination, which is\n",
        "“Action/Adventure”, “Romance” and “Biography”. Is there any evidence of a relationship\n",
        "between the age group and their movie genre inclination, at 5% significance level?**"
      ],
      "metadata": {
        "id": "3Vndtif8G1s7"
      }
    },
    {
      "cell_type": "code",
      "source": [
        "import numpy as np\n",
        "from scipy.stats import chi2_contingency                       #importing chi2_contigency module from scipy\n",
        "age_groupdata=[[141,68,4],[179,159,7],[220,216,4],[86,101,4]]  #data value considered for this simulation\n",
        "chi2, P, dof, expected =chi2_contingency(age_groupdata)        #result will be a tuple hence assigning it with respective values\n",
        "print(\"P value = \",P)\n",
        "print(\"Chi2 value=\",chi2)\n",
        "print(\"DOF =\",dof)\n",
        "print(\"Expected vaulues = \",expected)\n",
        "if P < 0.05:                                                   #rejection or acceptance based on comparision with alpha of 0.05\n",
        "  print(\"There is no significance evidence that the age group and their movie genre inclination, the values are independent\")"
      ],
      "metadata": {
        "colab": {
          "base_uri": "https://localhost:8080/"
        },
        "id": "3idij1NbG-p8",
        "outputId": "d5bbc78f-4980-41ab-faac-e94123469c57"
      },
      "execution_count": 5,
      "outputs": [
        {
          "output_type": "stream",
          "name": "stdout",
          "text": [
            "P value =  0.00044690833914947634\n",
            "DOF = 6\n",
            "Expected vaulues =  [[112.14297729  97.45332212   3.40370059]\n",
            " [181.64003364 157.84693019   5.51303616]\n",
            " [231.6568545  201.31202691   7.03111859]\n",
            " [100.56013457  87.38772077   3.05214466]]\n",
            "There is no significance evidence that the age group and their movie genre inclination, the values are independent\n"
          ]
        }
      ]
    }
  ]
}